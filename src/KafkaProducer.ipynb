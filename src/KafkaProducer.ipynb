{
 "cells": [
  {
   "cell_type": "markdown",
   "id": "d98b1cce",
   "metadata": {},
   "source": [
    "# **Kafka Producer**\n",
    "\n",
    "Read data from a Pandas DataFrame and send it to a Kafka topic.\n",
    "\n",
    "## **1. Importing Required Libraries**\n",
    "\n",
    "First install the `kafka-python` library, which provides the Kafka client for Python."
   ]
  },
  {
   "cell_type": "code",
   "execution_count": null,
   "id": "12484d3b",
   "metadata": {},
   "outputs": [],
   "source": [
    "!pip install kafka-python"
   ]
  },
  {
   "cell_type": "code",
   "execution_count": null,
   "id": "1e492b84",
   "metadata": {},
   "outputs": [],
   "source": [
    "import json\n",
    "import pandas as pd\n",
    "from time import sleep\n",
    "from json import dumps\n",
    "from kafka import KafkaProducer"
   ]
  },
  {
   "cell_type": "markdown",
   "id": "a8ac0061",
   "metadata": {},
   "source": [
    "- `sleep`: To add delays between message sends.\n",
    "- `dumps`: To serialize Python objects to JSON format.\n",
    "- `pandas`: For data manipulation and analysis.\n",
    "- `KafkaProducer`: To send messages to the Kafka topic.\n",
    "\n",
    "## **2. Setting Up the Kafka Producer**\n",
    "\n",
    "Initialize the Kafka producer with the appropriate settings.\n",
    "\n",
    "Replace `<your_ip>` with the IP address of your Kafka server."
   ]
  },
  {
   "cell_type": "code",
   "execution_count": null,
   "id": "1d51ef0a",
   "metadata": {},
   "outputs": [],
   "source": [
    "producer = KafkaProducer(\n",
    "    bootstrap_servers=['<your_ip>:9092'],\n",
    "    value_serializer=lambda x: dumps(x).encode('utf-8')\n",
    ")"
   ]
  },
  {
   "cell_type": "markdown",
   "id": "f476f3c4",
   "metadata": {},
   "source": [
    "- `bootstrap_servers`: List of host/port pairs to use for establishing the initial connection to the Kafka cluster.\n",
    "- `value_serializer`: Function that transforms the message before sending it to the broker.\n",
    "\n",
    "## **3. Sending a Test Message**\n",
    "\n",
    "Send a test message to ensure the producer is set up correctly."
   ]
  },
  {
   "cell_type": "code",
   "execution_count": null,
   "id": "a46d9efa",
   "metadata": {},
   "outputs": [],
   "source": [
    "producer.send('kafka_test', value={'sample_key': 'sample_value'})"
   ]
  },
  {
   "cell_type": "markdown",
   "id": "d25f2d62",
   "metadata": {},
   "source": [
    "- `send`: Sends a message to the specified topic.\n",
    "\n",
    "## **4. Reading Data from the CSV File**\n",
    "\n",
    "Read data from a CSV file into a Pandas DataFrame.\n",
    "\n",
    "Ensure that the CSV file `indexProcessed.csv` exists in the `data` directory relative to this notebook."
   ]
  },
  {
   "cell_type": "code",
   "execution_count": null,
   "id": "6bb5a28a",
   "metadata": {},
   "outputs": [],
   "source": [
    "# Read the CSV file into a DataFrame\n",
    "df = pd.read_csv(\"../data/indexProcessed.csv\")\n",
    "\n",
    "# Display the first few rows of the DataFrame\n",
    "df.head()"
   ]
  },
  {
   "cell_type": "markdown",
   "id": "04089650",
   "metadata": {},
   "source": [
    "## **5. Sending Data to the Kafka Topic**\n",
    "\n",
    "Iterate over the DataFrame and send each row as a message to the Kafka topic.\n",
    "\n",
    "In a production environment, we might use an infinite loop to continuously send data. For demonstration purposes, we're limiting the number of messages to prevent the loop from running indefinitely."
   ]
  },
  {
   "cell_type": "code",
   "execution_count": null,
   "id": "6973d700",
   "metadata": {},
   "outputs": [],
   "source": [
    "# Set the number of messages you want to send\n",
    "num_messages = 10\n",
    "\n",
    "for _ in range(num_messages):\n",
    "    # Randomly select one row from the DataFrame\n",
    "    dict_stock = df.sample(1).to_dict(orient=\"records\")[0]\n",
    "    # Send the data to the Kafka topic\n",
    "    producer.send('kafka_test', value=dict_stock)\n",
    "    # Wait for 1 second before sending the next message\n",
    "    sleep(1)"
   ]
  },
  {
   "cell_type": "markdown",
   "id": "5f4e389a",
   "metadata": {},
   "source": [
    "- `sleep(1)`: Adds a delay of 1 second between each message send.\n",
    "- `df.sample(1)`: Randomly selects one row from the DataFrame.\n",
    "- `to_dict(orient=\"records\")[0]`: Converts the DataFrame row to a dictionary.\n",
    "\n",
    "## **6. Flushing the Producer**\n",
    "\n",
    "Ensure all buffered messages are sent to the Kafka topic."
   ]
  },
  {
   "cell_type": "code",
   "execution_count": null,
   "id": "cbfdd0a6",
   "metadata": {},
   "outputs": [],
   "source": [
    "# Flush the producer to make sure all messages have been sent\n",
    "producer.flush()"
   ]
  },
  {
   "cell_type": "markdown",
   "id": "9144a661",
   "metadata": {},
   "source": [
    "- `flush`: Blocks until all pending messages are sent to the Kafka topic."
   ]
  }
 ],
 "metadata": {
  "kernelspec": {
   "display_name": "Python 3 (ipykernel)",
   "language": "python",
   "name": "python3"
  },
  "language_info": {
   "codemirror_mode": {
    "name": "ipython",
    "version": 3
   },
   "file_extension": ".py",
   "mimetype": "text/x-python",
   "name": "python",
   "nbconvert_exporter": "python",
   "pygments_lexer": "ipython3",
   "version": "3.10.0"
  }
 },
 "nbformat": 4,
 "nbformat_minor": 5
}
