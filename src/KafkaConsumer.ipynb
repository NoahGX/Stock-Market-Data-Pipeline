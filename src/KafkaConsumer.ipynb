{
 "cells": [
  {
   "cell_type": "markdown",
   "id": "5a7a4b1b",
   "metadata": {},
   "source": [
    "# **Kafka Consumer to Amazon S3 Writer**\n",
    "\n",
    "## **1. Importing Required Libraries**\n",
    "\n",
    "Importing the necessary libraries."
   ]
  },
  {
   "cell_type": "code",
   "execution_count": null,
   "id": "e6d0a088",
   "metadata": {},
   "outputs": [],
   "source": [
    "import json\n",
    "from time import sleep\n",
    "from json import dumps, loads\n",
    "from s3fs import S3FileSystem\n",
    "from kafka import KafkaConsumer"
   ]
  },
  {
   "cell_type": "markdown",
   "id": "5b83220a",
   "metadata": {},
   "source": [
    "- `json`: For handling JSON data.\n",
    "- `time.sleep`: To add delays if necessary.\n",
    "- `s3fs.S3FileSystem`: To interact with Amazon S3 storage.\n",
    "- `kafka.KafkaConsumer`: To consume messages from Kafka topics.\n",
    "\n",
    "## **2. Setting Up the Kafka Consumer**\n",
    "\n",
    "Configure the Kafka consumer to subscribe to the `'kafka_test'` topic."
   ]
  },
  {
   "cell_type": "code",
   "execution_count": null,
   "id": "d83b35df",
   "metadata": {},
   "outputs": [],
   "source": [
    "consumer = KafkaConsumer(\n",
    "    'kafka_test',\n",
    "    bootstrap_servers=['<your_ip>:9092'],\n",
    "    value_deserializer=lambda x: loads(x.decode('utf-8'))\n",
    ")"
   ]
  },
  {
   "cell_type": "markdown",
   "id": "67287931",
   "metadata": {},
   "source": [
    "- `bootstrap_servers`: The Kafka server address.\n",
    "- `value_deserializer`: Deserializes the incoming messages from JSON.\n",
    "\n",
    "**Note**: Replace `<your_ip>` with the IP address of your Kafka server.\n",
    "\n",
    "## **Optional: Printing Consumed Messages**\n",
    "\n",
    "If you wish to print the messages to the console for debugging, uncomment the following lines:\n"
   ]
  },
  {
   "cell_type": "code",
   "execution_count": null,
   "id": "f2ae9b49",
   "metadata": {},
   "outputs": [],
   "source": [
    "# for message in consumer:\n",
    "#     print(message.value)"
   ]
  },
  {
   "cell_type": "markdown",
   "id": "d1ae8651",
   "metadata": {},
   "source": [
    "## **Connecting to Amazon S3**\n",
    "\n",
    "Initialize the S3 filesystem object to interact with your S3 bucket."
   ]
  },
  {
   "cell_type": "code",
   "execution_count": null,
   "id": "bbe160be",
   "metadata": {},
   "outputs": [],
   "source": [
    "s3 = S3FileSystem()"
   ]
  },
  {
   "cell_type": "markdown",
   "id": "13c353f3",
   "metadata": {},
   "source": [
    "- Make sure you have AWS credentials configured for `s3fs` to access your S3 bucket.\n",
    "\n",
    "## **Consuming Messages and Writing to S3**\n",
    "\n",
    "Iterate over the consumed messages and write each one to a separate JSON file in S3."
   ]
  },
  {
   "cell_type": "code",
   "execution_count": null,
   "id": "9e9153ef",
   "metadata": {},
   "outputs": [],
   "source": [
    "for count, message in enumerate(consumer):\n",
    "    s3_path = f\"s3://your-bucket-name/stock_market_{count}.json\"\n",
    "    with s3.open(s3_path, 'w') as file:\n",
    "        json.dump(message.value, file)"
   ]
  },
  {
   "cell_type": "markdown",
   "id": "639e4978",
   "metadata": {},
   "source": [
    "- `enumerate(consumer)`: Provides a counter `count` for each message.\n",
    "- `s3.open()`: Opens a file in S3 for writing.\n",
    "- `json.dump()`: Writes the JSON data to the file.\n",
    "\n",
    "**Notes**: Replace `your-bucket-name` with the name of your S3 bucket.\n",
    "\n",
    "**Ensure that you have the necessary permissions and AWS credentials set up to write to your S3 bucket.**"
   ]
  }
 ],
 "metadata": {
  "kernelspec": {
   "display_name": "Python 3 (ipykernel)",
   "language": "python",
   "name": "python3"
  },
  "language_info": {
   "codemirror_mode": {
    "name": "ipython",
    "version": 3
   },
   "file_extension": ".py",
   "mimetype": "text/x-python",
   "name": "python",
   "nbconvert_exporter": "python",
   "pygments_lexer": "ipython3",
   "version": "3.10.0"
  }
 },
 "nbformat": 4,
 "nbformat_minor": 5
}
